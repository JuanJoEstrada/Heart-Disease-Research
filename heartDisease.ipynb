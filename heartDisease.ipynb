{
 "cells": [
  {
   "cell_type": "markdown",
   "metadata": {},
   "source": [
    "# Heart Disease Research\n",
    "\n",
    "In this project, it will be investigated some data from a sample patients who were evaluated for heart disease at the Cleveland Clinic Foundation. The data was downloaded from the [UCI Machine Learning Repository](https://archive.ics.uci.edu/dataset/45/heart+disease) and then cleaned for analysis. The principal investigators responsible for data collection were:\n",
    "\n",
    "\n",
    "1. Hungarian Institute of Cardiology. Budapest: Andras Janosi, M.D.\n",
    "2. University Hospital, Zurich, Switzerland: William Steinbrunn, M.D.\n",
    "3. University Hospital, Basel, Switzerland: Matthias Pfisterer, M.D.\n",
    "4. V.A. Medical Center, Long Beach and Cleveland Clinic Foundation: Robert Detrano, M.D., Ph.D.\n"
   ]
  },
  {
   "cell_type": "markdown",
   "metadata": {},
   "source": [
    "## Import libraries"
   ]
  },
  {
   "cell_type": "code",
   "execution_count": 159,
   "metadata": {},
   "outputs": [],
   "source": [
    "import pandas as pd\n",
    "import seaborn as sns\n",
    "import matplotlib.pyplot as plt\n",
    "from scipy.stats import ttest_ind\n",
    "from scipy.stats import f_oneway\n",
    "from scipy.stats import chi2_contingency\n",
    "from statsmodels.stats.multicomp import pairwise_tukeyhsd"
   ]
  },
  {
   "cell_type": "markdown",
   "metadata": {},
   "source": [
    "## Load data\n",
    "\n",
    "The data has been saved as a dataframe named heart. It contains the following variables:\n",
    "\n",
    "\n",
    "- **age**: age in years\n",
    "- **sex**: sex assigned at birth; 'male' or 'female'\n",
    "- **trestbps**: resting blood pressure in mm Hg\n",
    "- **chol**: serum cholesterol in mg/dl\n",
    "- **cp:** chest pain type ('typical angina', 'atypical angina', 'non-anginal pain', or 'asymptomatic')\n",
    "- **exang**: whether the patient experiences exercise-induced angina (1: yes; 0: no)\n",
    "- **fbs**: whether the patient’s fasting blood sugar is >120 mg/dl (1: yes; 0: no)\n",
    "- **thalach**: maximum heart rate achieved in exercise test\n",
    "- **heart_disease**: whether the patient is found to have heart disease ('presence': diagnosed with heart disease; 'absence': no heart disease)\n"
   ]
  },
  {
   "cell_type": "code",
   "execution_count": 160,
   "metadata": {},
   "outputs": [
    {
     "data": {
      "text/html": [
       "<div>\n",
       "<style scoped>\n",
       "    .dataframe tbody tr th:only-of-type {\n",
       "        vertical-align: middle;\n",
       "    }\n",
       "\n",
       "    .dataframe tbody tr th {\n",
       "        vertical-align: top;\n",
       "    }\n",
       "\n",
       "    .dataframe thead th {\n",
       "        text-align: right;\n",
       "    }\n",
       "</style>\n",
       "<table border=\"1\" class=\"dataframe\">\n",
       "  <thead>\n",
       "    <tr style=\"text-align: right;\">\n",
       "      <th></th>\n",
       "      <th>age</th>\n",
       "      <th>sex</th>\n",
       "      <th>trestbps</th>\n",
       "      <th>chol</th>\n",
       "      <th>cp</th>\n",
       "      <th>exang</th>\n",
       "      <th>fbs</th>\n",
       "      <th>thalach</th>\n",
       "      <th>heart_disease</th>\n",
       "    </tr>\n",
       "  </thead>\n",
       "  <tbody>\n",
       "    <tr>\n",
       "      <th>0</th>\n",
       "      <td>63.0</td>\n",
       "      <td>male</td>\n",
       "      <td>145.0</td>\n",
       "      <td>233.0</td>\n",
       "      <td>typical angina</td>\n",
       "      <td>0.0</td>\n",
       "      <td>1.0</td>\n",
       "      <td>150.0</td>\n",
       "      <td>absence</td>\n",
       "    </tr>\n",
       "    <tr>\n",
       "      <th>1</th>\n",
       "      <td>67.0</td>\n",
       "      <td>male</td>\n",
       "      <td>160.0</td>\n",
       "      <td>286.0</td>\n",
       "      <td>asymptomatic</td>\n",
       "      <td>1.0</td>\n",
       "      <td>0.0</td>\n",
       "      <td>108.0</td>\n",
       "      <td>presence</td>\n",
       "    </tr>\n",
       "    <tr>\n",
       "      <th>2</th>\n",
       "      <td>67.0</td>\n",
       "      <td>male</td>\n",
       "      <td>120.0</td>\n",
       "      <td>229.0</td>\n",
       "      <td>asymptomatic</td>\n",
       "      <td>1.0</td>\n",
       "      <td>0.0</td>\n",
       "      <td>129.0</td>\n",
       "      <td>presence</td>\n",
       "    </tr>\n",
       "    <tr>\n",
       "      <th>3</th>\n",
       "      <td>37.0</td>\n",
       "      <td>male</td>\n",
       "      <td>130.0</td>\n",
       "      <td>250.0</td>\n",
       "      <td>non-anginal pain</td>\n",
       "      <td>0.0</td>\n",
       "      <td>0.0</td>\n",
       "      <td>187.0</td>\n",
       "      <td>absence</td>\n",
       "    </tr>\n",
       "    <tr>\n",
       "      <th>4</th>\n",
       "      <td>41.0</td>\n",
       "      <td>female</td>\n",
       "      <td>130.0</td>\n",
       "      <td>204.0</td>\n",
       "      <td>atypical angina</td>\n",
       "      <td>0.0</td>\n",
       "      <td>0.0</td>\n",
       "      <td>172.0</td>\n",
       "      <td>absence</td>\n",
       "    </tr>\n",
       "  </tbody>\n",
       "</table>\n",
       "</div>"
      ],
      "text/plain": [
       "    age     sex  trestbps   chol                cp  exang  fbs  thalach  \\\n",
       "0  63.0    male     145.0  233.0    typical angina    0.0  1.0    150.0   \n",
       "1  67.0    male     160.0  286.0      asymptomatic    1.0  0.0    108.0   \n",
       "2  67.0    male     120.0  229.0      asymptomatic    1.0  0.0    129.0   \n",
       "3  37.0    male     130.0  250.0  non-anginal pain    0.0  0.0    187.0   \n",
       "4  41.0  female     130.0  204.0   atypical angina    0.0  0.0    172.0   \n",
       "\n",
       "  heart_disease  \n",
       "0       absence  \n",
       "1      presence  \n",
       "2      presence  \n",
       "3       absence  \n",
       "4       absence  "
      ]
     },
     "execution_count": 160,
     "metadata": {},
     "output_type": "execute_result"
    }
   ],
   "source": [
    "heart = pd.read_csv('heart_disease.csv')\n",
    "heart.head()"
   ]
  },
  {
   "cell_type": "markdown",
   "metadata": {},
   "source": [
    "## Analyzing resting blood pressure (trestbps)\n",
    "\n",
    "Is **thalach** associated with whether or not a patient will ultimately be diagnosed with heart disease?\n",
    "\n",
    "\n",
    "- **Null**: The average thalach for a person with heart disease is equal to the average thalach for a person without heart disease.\n",
    "- **Alternative**: The average thalach for a person with heart disease is NOT equal to the average thalach for a person without heart disease.\n"
   ]
  },
  {
   "cell_type": "code",
   "execution_count": 161,
   "metadata": {},
   "outputs": [
    {
     "data": {
      "image/png": "[encoded data removed]",
      "text/plain": [
       "<Figure size 640x480 with 1 Axes>"
      ]
     },
     "metadata": {},
     "output_type": "display_data"
    },
    {
     "data": {
      "text/plain": [
       "<Figure size 640x480 with 0 Axes>"
      ]
     },
     "metadata": {},
     "output_type": "display_data"
    }
   ],
   "source": [
    "sns.boxplot(data=heart, x=\"heart_disease\", y=\"thalach\", palette='Set2', hue=\"heart_disease\")\n",
    "plt.xlabel(\"Heart Disease\")\n",
    "plt.ylabel(\"Blood Pressure in mm Hg\")\n",
    "plt.show()\n",
    "plt.clf()"
   ]
  },
  {
   "cell_type": "code",
   "execution_count": 162,
   "metadata": {},
   "outputs": [
    {
     "name": "stdout",
     "output_type": "stream",
     "text": [
      "pval: 3.456964908430172e-14\n"
     ]
    }
   ],
   "source": [
    "thalach_hd = heart.thalach[heart.heart_disease == 'presence']\n",
    "thalach_no_hd = heart.thalach[heart.heart_disease == 'absence']\n",
    "tstat, pval = ttest_ind(thalach_hd, thalach_no_hd)\n",
    "\n",
    "print(f\"pval: {pval}\")"
   ]
  },
  {
   "cell_type": "markdown",
   "metadata": {},
   "source": [
    "**Null hypothesis can be rejected because pval is less than 0.05 (threshold)**. Meaning that there is a significant difference in average thalach for a person with and without heart disease."
   ]
  },
  {
   "cell_type": "markdown",
   "metadata": {},
   "source": [
    "Is **thalach** associated with chest pain type?\n",
    "\n",
    "\n",
    "- **Null**: People with typical angina, non-anginal pain, atypical angina, and asymptomatic people all have the same average thalach.\n",
    "- **Alternative**: Alternative: People with typical angina, non-anginal pain, atypical angina, and asymptomatic people do not all have the same average thalach."
   ]
  },
  {
   "cell_type": "code",
   "execution_count": 163,
   "metadata": {},
   "outputs": [
    {
     "data": {
      "image/png": "[encoded data removed]",
      "text/plain": [
       "<Figure size 640x480 with 1 Axes>"
      ]
     },
     "metadata": {},
     "output_type": "display_data"
    },
    {
     "data": {
      "text/plain": [
       "<Figure size 640x480 with 0 Axes>"
      ]
     },
     "metadata": {},
     "output_type": "display_data"
    }
   ],
   "source": [
    "sns.boxplot(data=heart, x=\"cp\", y=\"thalach\", hue=\"cp\", palette='Set1')\n",
    "plt.xlabel(\"Chest Pain Type\")\n",
    "plt.ylabel(\"Blood Pressure in mm Hg\")\n",
    "plt.show()\n",
    "plt.clf()"
   ]
  },
  {
   "cell_type": "code",
   "execution_count": 164,
   "metadata": {},
   "outputs": [
    {
     "name": "stdout",
     "output_type": "stream",
     "text": [
      "pval: 1.9065505247705008e-10\n"
     ]
    }
   ],
   "source": [
    "thalach_typical = heart[heart[\"cp\"] == \"typical angina\"][\"thalach\"]\n",
    "thalach_asymptom = heart[heart[\"cp\"] == \"asymptomatic\"][\"thalach\"]\n",
    "thalach_nonangin = heart[heart[\"cp\"] == \"non-anginal pain\"][\"thalach\"]\n",
    "thalach_atypical = heart[heart[\"cp\"] == \"atypical angina\"][\"thalach\"]\n",
    "\n",
    "fstat, pval = f_oneway(thalach_typical, thalach_asymptom, thalach_nonangin, thalach_atypical)\n",
    "print(f\"pval: {pval}\")"
   ]
  },
  {
   "cell_type": "markdown",
   "metadata": {},
   "source": [
    "Pval is less than 0.05. **At least one pair of groups earned significantly different blood pressure on average**."
   ]
  },
  {
   "cell_type": "code",
   "execution_count": 165,
   "metadata": {},
   "outputs": [
    {
     "name": "stdout",
     "output_type": "stream",
     "text": [
      "           Multiple Comparison of Means - Tukey HSD, FWER=0.05           \n",
      "=========================================================================\n",
      "     group1           group2      meandiff p-adj   lower    upper  reject\n",
      "-------------------------------------------------------------------------\n",
      "    asymptomatic  atypical angina  21.7394    0.0  12.7442 30.7347   True\n",
      "    asymptomatic non-anginal pain  14.7264    0.0   7.2583 22.1945   True\n",
      "    asymptomatic   typical angina   15.276 0.0081   2.9707 27.5812   True\n",
      " atypical angina non-anginal pain   -7.013 0.2481 -16.7587  2.7327  False\n",
      " atypical angina   typical angina  -6.4635 0.6213 -20.2702  7.3432  False\n",
      "non-anginal pain   typical angina   0.5495 0.9995 -12.3145 13.4136  False\n",
      "-------------------------------------------------------------------------\n"
     ]
    }
   ],
   "source": [
    "tukey_results = pairwise_tukeyhsd(heart.thalach, heart.cp, 0.05)\n",
    "print(tukey_results)"
   ]
  },
  {
   "cell_type": "markdown",
   "metadata": {},
   "source": [
    "People with those chest pain types have significantly different maximum heart rates during exercise. **Surprisingly, people who are 'asymptomatic' seem to have a lower maximum heart rate (associated with heart disease) than people who have other kinds of chest pain**. Let’s investigate the relationship between the kind of chest pain a person experiences and whether or not they have heart disease.\n",
    "\n",
    "\n",
    "- **Null**: There is NOT an association between chest pain type and whether or not someone is diagnosed with heart disease.\n",
    "- **Alternative**: There is an association between chest pain type and whether or not someone is diagnosed with heart disease.\n"
   ]
  },
  {
   "cell_type": "code",
   "execution_count": 166,
   "metadata": {},
   "outputs": [
    {
     "name": "stdout",
     "output_type": "stream",
     "text": [
      "pval= 1.2517106007837527e-17\n"
     ]
    },
    {
     "data": {
      "text/html": [
       "<div>\n",
       "<style scoped>\n",
       "    .dataframe tbody tr th:only-of-type {\n",
       "        vertical-align: middle;\n",
       "    }\n",
       "\n",
       "    .dataframe tbody tr th {\n",
       "        vertical-align: top;\n",
       "    }\n",
       "\n",
       "    .dataframe thead th {\n",
       "        text-align: right;\n",
       "    }\n",
       "</style>\n",
       "<table border=\"1\" class=\"dataframe\">\n",
       "  <thead>\n",
       "    <tr style=\"text-align: right;\">\n",
       "      <th>heart_disease</th>\n",
       "      <th>absence</th>\n",
       "      <th>presence</th>\n",
       "    </tr>\n",
       "    <tr>\n",
       "      <th>cp</th>\n",
       "      <th></th>\n",
       "      <th></th>\n",
       "    </tr>\n",
       "  </thead>\n",
       "  <tbody>\n",
       "    <tr>\n",
       "      <th>asymptomatic</th>\n",
       "      <td>39</td>\n",
       "      <td>105</td>\n",
       "    </tr>\n",
       "    <tr>\n",
       "      <th>atypical angina</th>\n",
       "      <td>41</td>\n",
       "      <td>9</td>\n",
       "    </tr>\n",
       "    <tr>\n",
       "      <th>non-anginal pain</th>\n",
       "      <td>68</td>\n",
       "      <td>18</td>\n",
       "    </tr>\n",
       "    <tr>\n",
       "      <th>typical angina</th>\n",
       "      <td>16</td>\n",
       "      <td>7</td>\n",
       "    </tr>\n",
       "  </tbody>\n",
       "</table>\n",
       "</div>"
      ],
      "text/plain": [
       "heart_disease     absence  presence\n",
       "cp                                 \n",
       "asymptomatic           39       105\n",
       "atypical angina        41         9\n",
       "non-anginal pain       68        18\n",
       "typical angina         16         7"
      ]
     },
     "execution_count": 166,
     "metadata": {},
     "output_type": "execute_result"
    }
   ],
   "source": [
    "table = pd.crosstab(heart.cp, heart.heart_disease)\n",
    "chi2, pval, dof , expected = chi2_contingency(table)\n",
    "print(f\"pval= {pval}\")\n",
    "table"
   ]
  },
  {
   "cell_type": "markdown",
   "metadata": {},
   "source": [
    "**People with asymptomatic chest pain tend to have a heart disease.**"
   ]
  },
  {
   "cell_type": "markdown",
   "metadata": {},
   "source": [
    "## Analyzing age\n",
    "\n",
    "Is **age** associated with whether or not a patient will ultimately be diagnosed with heart disease?\n",
    "\n",
    "\n",
    "- **Null**: The average age for a person with heart disease is equal to the average age for a person without heart disease.\n",
    "- **Alternative**: The average age for a person with heart disease is NOT equal to the average age for a person without heart disease."
   ]
  },
  {
   "cell_type": "code",
   "execution_count": 167,
   "metadata": {},
   "outputs": [
    {
     "data": {
      "image/png": "[encoded data removed]",
      "text/plain": [
       "<Figure size 640x480 with 1 Axes>"
      ]
     },
     "metadata": {},
     "output_type": "display_data"
    },
    {
     "data": {
      "text/plain": [
       "<Figure size 640x480 with 0 Axes>"
      ]
     },
     "metadata": {},
     "output_type": "display_data"
    }
   ],
   "source": [
    "sns.boxplot(data=heart, x=\"heart_disease\", y=\"age\", hue=\"heart_disease\")\n",
    "plt.xlabel(\"Heart Disease\")\n",
    "plt.ylabel(\"Age in Years\")\n",
    "plt.show()\n",
    "plt.clf()"
   ]
  },
  {
   "cell_type": "code",
   "execution_count": 168,
   "metadata": {},
   "outputs": [
    {
     "name": "stdout",
     "output_type": "stream",
     "text": [
      "pval: 8.955636917529706e-05\n"
     ]
    }
   ],
   "source": [
    "age_hd = heart[heart[\"heart_disease\"] == \"presence\"][\"age\"]\n",
    "age_no_hd = heart[heart[\"heart_disease\"] == \"absence\"][\"age\"]\n",
    "tstat, pval = ttest_ind(age_hd, age_no_hd)\n",
    "\n",
    "print(f\"pval: {pval}\")"
   ]
  },
  {
   "cell_type": "markdown",
   "metadata": {},
   "source": [
    "**Null hypothesis can be rejected because pval is less than 0.05 (threshold)**. Meaning that there is a significant difference in average age for a person with and without heart disease."
   ]
  },
  {
   "cell_type": "markdown",
   "metadata": {},
   "source": [
    "## Analyzing serum cholesterol\n",
    "\n",
    "Is **chol** associated with whether or not a patient will ultimately be diagnosed with heart disease?\n",
    "\n",
    "\n",
    "- **Null**: The average chol for a person with heart disease is equal to the average chol for a person without heart disease.\n",
    "- **Alternative**: The average chol for a person with heart disease is NOT equal to the average chol for a person without heart disease."
   ]
  },
  {
   "cell_type": "code",
   "execution_count": 169,
   "metadata": {},
   "outputs": [
    {
     "data": {
      "image/png": "[encoded data removed]",
      "text/plain": [
       "<Figure size 640x480 with 1 Axes>"
      ]
     },
     "metadata": {},
     "output_type": "display_data"
    },
    {
     "data": {
      "text/plain": [
       "<Figure size 640x480 with 0 Axes>"
      ]
     },
     "metadata": {},
     "output_type": "display_data"
    }
   ],
   "source": [
    "sns.boxplot(data=heart, x=\"heart_disease\", y=\"chol\", hue=\"heart_disease\", palette='Set3')\n",
    "plt.xlabel(\"Heart Disease\")\n",
    "plt.ylabel(\"Serum Cholesterol in mg/dl\")\n",
    "plt.show()\n",
    "plt.clf()"
   ]
  },
  {
   "cell_type": "code",
   "execution_count": 170,
   "metadata": {},
   "outputs": [
    {
     "name": "stdout",
     "output_type": "stream",
     "text": [
      "pval: 0.13914167020436527\n"
     ]
    }
   ],
   "source": [
    "chol_hd = heart[heart[\"heart_disease\"] == \"presence\"][\"chol\"]\n",
    "chol_no_hd = heart[heart[\"heart_disease\"] == \"absence\"][\"chol\"]\n",
    "tstat, pval = ttest_ind(chol_hd, chol_no_hd)\n",
    "\n",
    "print(f\"pval: {pval}\")"
   ]
  },
  {
   "cell_type": "markdown",
   "metadata": {},
   "source": [
    "**Null hypothesis cannot be rejected because pval is greater than 0.05 (threshold)**. Meaning that there is not a significant difference in average chol for a person with and without heart disease."
   ]
  }
 ],
 "metadata": {
  "kernelspec": {
   "display_name": "base",
   "language": "python",
   "name": "python3"
  },
  "language_info": {
   "codemirror_mode": {
    "name": "ipython",
    "version": 3
   },
   "file_extension": ".py",
   "mimetype": "text/x-python",
   "name": "python",
   "nbconvert_exporter": "python",
   "pygments_lexer": "ipython3",
   "version": "3.12.4"
  }
 },
 "nbformat": 4,
 "nbformat_minor": 2
}
